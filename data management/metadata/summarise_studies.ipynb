{
 "cells": [
  {
   "attachments": {},
   "cell_type": "markdown",
   "metadata": {},
   "source": [
    "# Summarise Blood Pressure and Arterial Function Laboratory studies\n",
    "\n",
    "This code scrapes the metadata files (json format) in the current folder and outputs a markdown file with a tabular summary of those studies."
   ]
  },
  {
   "cell_type": "code",
   "execution_count": 5,
   "metadata": {},
   "outputs": [],
   "source": [
    "# import required libraries\n",
    "import json\n",
    "import pandas as pd\n",
    "import os"
   ]
  },
  {
   "cell_type": "code",
   "execution_count": 6,
   "metadata": {},
   "outputs": [],
   "source": [
    "# Read a template markdown file with some top level information for the markdown file to be generated\n",
    "with open(\"summarise_studies_template.md\", \"r\") as f:\n",
    "    content = f.read()"
   ]
  },
  {
   "cell_type": "code",
   "execution_count": 7,
   "metadata": {},
   "outputs": [
    {
     "name": "stdout",
     "output_type": "stream",
     "text": [
      "198200BJNG.json read.\n",
      "198501AORT.json read.\n",
      "200901PCNG.json read.\n",
      "201201PCHM.json read.\n",
      "201809MSTR.json read.\n",
      "201905MMO.json read.\n",
      "202001BLMO.json read.\n",
      "202007FLDG.json read.\n",
      "202111OSAB.json read.\n",
      "202201ORTH.json read.\n",
      "202209APPG.json read.\n",
      "202303IABD.json read.\n",
      "202303QNTS.json read.\n",
      "202304IABP.json read.\n",
      "202305BACU.json read.\n"
     ]
    }
   ],
   "source": [
    "# Get list of files with extension \".json\" in the current folder\n",
    "json_files = [f for f in os.listdir('.') if f.endswith('.json')]\n",
    "\n",
    "# Create table with top level study information from json files\n",
    "for filename in json_files:\n",
    "    if(filename != \"000000TPLT.json\"):\n",
    "        with open(filename, 'r') as f:\n",
    "            data = json.load(f)\n",
    "        temp = pd.DataFrame({\n",
    "            'study title': [data['study_title']],\n",
    "            'study id': [data['study_id']],\n",
    "            'study location': [data['study_location']],\n",
    "            'folder': [data['folder_location']],\n",
    "            'ethics': [data['ethics_location']],\n",
    "            'Pure record': [data['pure_record']],\n",
    "            'start date': [data['study_start_date']],\n",
    "            'end date': [data['study_end_date']],\n",
    "            'description': [data['study_description']],\n",
    "            'principal investigator(s)': [data['principal_investigator']],\n",
    "            'other investigators': [data['personnel']],\n",
    "            'sample size': [len(data['id_list'])]\n",
    "        })\n",
    "        if (filename == json_files[1]):\n",
    "            df = temp\n",
    "        else:\n",
    "            df = pd.concat([df, temp])\n",
    "        print(filename, \"read.\")"
   ]
  },
  {
   "cell_type": "code",
   "execution_count": 8,
   "metadata": {},
   "outputs": [],
   "source": [
    "# Make a single date column\n",
    "df['start date'] = df['start date'] + '-' + df['end date']\n",
    "df = df.rename({'start date': 'date'}, axis='columns')\n",
    "df = df.drop('end date', axis='columns')\n",
    "\n",
    "# Put text (linked) instead of full url's in the table\n",
    "def create_markdown_link(url, text):\n",
    "    return f'[{text}]({url})'\n",
    "\n",
    "df['folder']      = df['folder'].apply(lambda x: create_markdown_link(x, 'data'))\n",
    "df['ethics']      = df['ethics'].apply(lambda x: create_markdown_link(x, 'ethics'))\n",
    "df['Pure record'] = df['Pure record'].apply(lambda x: create_markdown_link(x, 'Pure'))\n",
    "\n",
    "# Create a single column with the links\n",
    "df['folder'] = df['folder'] + ';<br>' + df['ethics'] + ';<br>' + df['Pure record']\n",
    "df = df.rename({'folder': 'links'}, axis='columns')\n",
    "df = df.drop(columns=['ethics', 'Pure record'])\n",
    "\n",
    "# Add study ID to title column\n",
    "df['study title'] = df['study id'] + '<br>' + df['study title'] + '<br>' + df['study location']\n",
    "df = df.drop(columns=['study id', 'study location'])\n",
    "\n",
    "# Write the contents to the output file in markdown format\n",
    "with open(\"README.md\", \"w\") as f:\n",
    "    # f.write(\"# \" + input_file + \"\\n\\n\")\n",
    "    f.write(content)\n",
    "    f.write(\"\\n\")\n",
    "    f.write(df.to_markdown(tablefmt=\"github\"))\n"
   ]
  }
 ],
 "metadata": {
  "kernelspec": {
   "display_name": "Python 3",
   "language": "python",
   "name": "python3"
  },
  "language_info": {
   "codemirror_mode": {
    "name": "ipython",
    "version": 3
   },
   "file_extension": ".py",
   "mimetype": "text/x-python",
   "name": "python",
   "nbconvert_exporter": "python",
   "pygments_lexer": "ipython3",
   "version": "3.11.3"
  },
  "orig_nbformat": 4
 },
 "nbformat": 4,
 "nbformat_minor": 2
}
